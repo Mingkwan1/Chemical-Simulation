{
 "cells": [
  {
   "cell_type": "markdown",
   "metadata": {},
   "source": [
    "### Monte Carlo Method"
   ]
  },
  {
   "cell_type": "markdown",
   "metadata": {},
   "source": [
    "Test 0) Approximating pi value\n",
    "pi/4 = r/n"
   ]
  },
  {
   "cell_type": "code",
   "execution_count": 1,
   "metadata": {},
   "outputs": [],
   "source": [
    "import numpy as np\n",
    "import math \n",
    "import matplotlib\n",
    "matplotlib.use(\"TkAgg\")\n",
    "import matplotlib.pyplot as plt\n",
    "from matplotlib.pyplot import *"
   ]
  },
  {
   "cell_type": "code",
   "execution_count": null,
   "metadata": {},
   "outputs": [
    {
     "name": "stderr",
     "output_type": "stream",
     "text": [
      "No artists with labels found to put in legend.  Note that artists whose label start with an underscore are ignored when legend() is called with no argument.\n"
     ]
    },
    {
     "name": "stdout",
     "output_type": "stream",
     "text": [
      "the value of pi is 3.1318\n"
     ]
    }
   ],
   "source": [
    "r = 1\n",
    "n = 20000 #After n > 12000, the value start to converge nicely\n",
    "countin = 0\n",
    "count = 0\n",
    "\n",
    "xCord = np.random.default_rng().uniform(-1.0,1.0,n)\n",
    "yCord = np.random.default_rng().uniform(-1.0,1.0,n)\n",
    "\n",
    "# First matplotlib window\n",
    "fig = figure(figsize=(6.5, 8), dpi=120)\n",
    "fig1 = plt.figure(1, figsize = (1,8)) #The tag of the first figure is \"1\"\n",
    "plt.get_current_fig_manager().window.wm_geometry(\"+00+00\") # move the window\n",
    "plt.xlim(-1,1) #The square is plotted\n",
    "plt.ylim(-1,1)\n",
    "plt.legend()\n",
    " \n",
    "# Second matplotlib window\n",
    "plt.figure(2)\n",
    "plt.get_current_fig_manager().window.wm_geometry(\"+960+00\") # move the window\n",
    "# plt.ylim(2.8,4.3)\n",
    "\n",
    "# Some checks so the legend labels are only drawn once\n",
    "isFirst1 = True\n",
    "isFirst2 = True\n",
    " \n",
    "# Some arrays to store the pi value vs the number of pins dropped\n",
    "piValueI = []\n",
    "nDrops_arr = []\n",
    " \n",
    "# Some arrays to plot the points\n",
    "insideX = []\n",
    "outsideX = []\n",
    "insideY = []\n",
    "outsideY = []\n",
    "\n",
    "for i in range(n):\n",
    "    x = xCord[i]\n",
    "    y = yCord[i]\n",
    "    count += 1\n",
    "    if math.sqrt(x**2 + y**2) <= r:\n",
    "        countin +=1\n",
    "        insideX.append(x)\n",
    "        insideY.append(y)\n",
    "    else:\n",
    "        outsideX.append(x)\n",
    "        outsideY.append(y)\n",
    "    #Plot every 50 interval\n",
    "    if i%200 == 0:\n",
    "        plt.figure(1)\n",
    "        if isFirst1:\n",
    "            # Plot once with label\n",
    "            plt.scatter(insideX,insideY,c='red',s=10,label='Drop inside')\n",
    "            isFirst1 = False\n",
    "            plt.legend(loc=(0.75, 0.9))\n",
    "        else:\n",
    "            plt.scatter(insideX,insideY,c='red',s=10)\n",
    "        plt.figure(1)\n",
    "        if isFirst2:\n",
    "            # Plot once with label\n",
    "            plt.scatter(outsideX,outsideY,c='blue',s=10,label='Drop outside')\n",
    "            isFirst1 = False\n",
    "            plt.legend(loc=(0.75, 0.9))\n",
    "        else:\n",
    "            plt.scatter(outsideX,outsideY,c='blue',s=10)\n",
    "\n",
    "        area = 4*countin/count\n",
    "        plt.figure(1)\n",
    "        plt.title('No. of pin drops = '+str(count)+';  No. inside circle = '+str(countin)+r';  π  ≈ $4\\frac{N_\\mathrm{inside}}{N_\\mathrm{total}}=$ '+str(np.round(area,6)))\n",
    "        piValueI.append(area)\n",
    "        nDrops_arr.append(count)\n",
    "        # For plotting on the second window\n",
    "        plt.figure(2)\n",
    "        plt.axhline(y=np.pi, c='black',linewidth=2,alpha=0.5)\n",
    "        plt.plot(nDrops_arr,piValueI,c='green')\n",
    "        plt.title('π estimate vs no. of pin drops')\n",
    "        plt.annotate('π',[0,np.pi],fontsize=20)\n",
    "        # The following command is needed to make the second window plot work.\n",
    "        plt.draw()\n",
    "        # Pause for animation\n",
    "        plt.pause(0.1)\n",
    "\n",
    "\n",
    "pi = 4*countin/count\n",
    "print(f\"the value of pi is {pi}\")\n"
   ]
  }
 ],
 "metadata": {
  "kernelspec": {
   "display_name": "Python 3",
   "language": "python",
   "name": "python3"
  },
  "language_info": {
   "codemirror_mode": {
    "name": "ipython",
    "version": 3
   },
   "file_extension": ".py",
   "mimetype": "text/x-python",
   "name": "python",
   "nbconvert_exporter": "python",
   "pygments_lexer": "ipython3",
   "version": "3.9.13"
  }
 },
 "nbformat": 4,
 "nbformat_minor": 2
}
